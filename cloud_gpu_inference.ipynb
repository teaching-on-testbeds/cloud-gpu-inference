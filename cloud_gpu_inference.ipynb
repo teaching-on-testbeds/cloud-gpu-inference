{
 "cells": [
  {
   "cell_type": "markdown",
   "metadata": {},
   "source": [
    "# Using cloud servers for GPU-based inference"
   ],
   "id": "03b02cbb-4dd7-4a19-a1fb-eaefa590b9c9"
  },
  {
   "cell_type": "markdown",
   "metadata": {},
   "source": [
    "Machine learning models are most often trained in the “cloud”, on powerful centralized servers with specialized resources (like GPU acceleration) for training machine learning models. These servers are also well-resources for inference, i.e. making predictions on new data.\n",
    "\n",
    "In this experiment, we will use a cloud server equipped with GPU acceleration for fast inference in an image classification context."
   ],
   "id": "a7a5c36e-bd32-461d-a453-db1991b9fd1d"
  },
  {
   "cell_type": "markdown",
   "metadata": {},
   "source": [
    "This notebook assumes you already have a “lease” available for an RTX6000 GPU server on the CHI@UC testbed. Then, it will show you how to:\n",
    "\n",
    "-   launch a server using that lease\n",
    "-   attach an IP address to the server, so that you can access it over SSH\n",
    "-   install some fundamental machine learning libraries on the server\n",
    "-   use a pre-trained image classification model to do inference on the server\n",
    "-   delete the server"
   ],
   "id": "442e361d-1f04-493a-a4ea-f353e96a13e9"
  },
  {
   "cell_type": "markdown",
   "metadata": {},
   "source": [
    "## Launch a cloud server\n",
    "\n",
    "We will start by preparing our environment in this notebook, then launching a cloud server using our pre-existing lease."
   ],
   "id": "df67c91f-2449-4743-b8f5-1cab4965a13c"
  },
  {
   "cell_type": "markdown",
   "metadata": {},
   "source": [
    "First, we load some required libraries:"
   ],
   "id": "f3bcdcce-3a1a-4ae5-9a7c-c3e6804c5934"
  },
  {
   "cell_type": "code",
   "execution_count": null,
   "metadata": {},
   "outputs": [],
   "source": [
    "import chi\n",
    "from chi import server\n",
    "from chi import lease\n",
    "import datetime\n",
    "import os"
   ],
   "id": "bb9b0727-7f50-4a15-887f-6bfcbebe16d2"
  },
  {
   "cell_type": "markdown",
   "metadata": {},
   "source": [
    "We indicate that we’re going to use the CHI@UC site. We also need to specify the name of the Chameleon “project” that this experiment is part of. The project name will have the format “CHI-XXXXXX”, where the last part is a 6-digit number, and you can find it on your [user dashboard](https://chameleoncloud.org/user/dashboard/).\n",
    "\n",
    "In the cell below, replace the project ID with your *own* project ID, then run the cell."
   ],
   "id": "795a6b28-4063-4f49-af6a-5bef48f0bc86"
  },
  {
   "cell_type": "code",
   "execution_count": null,
   "metadata": {},
   "outputs": [],
   "source": [
    "chi.use_site(\"CHI@UC\")\n",
    "chi.set(\"project_name\", \"CHI-XXXXXX\")"
   ],
   "id": "4e6c850e-b4cc-4e2c-9b80-96f167039032"
  },
  {
   "cell_type": "markdown",
   "metadata": {},
   "source": [
    "Next, we’ll specify the lease ID. This notebook assumes you already have a “lease” for an RTX6000 GPU server on CHI@UC. To get the ID of this lease,\n",
    "\n",
    "-   Vist the CHI@UC [“reservations” page](chi.uc.chameleoncloud.org/project/leases/).\n",
    "-   Click on the lease name.\n",
    "-   On the following page, look for the value next to the word “Id” in the “Lease” section.\n",
    "\n",
    "Fill in the lease ID inside the quotation marks in the following cell, then run the cell."
   ],
   "id": "a82c784d-4f3f-4b6c-af72-ded57f40608e"
  },
  {
   "cell_type": "code",
   "execution_count": null,
   "metadata": {},
   "outputs": [],
   "source": [
    "lease_id =\"xxxxxxxx-xxxx-xxxx-xxxx-xxxxxxxxxxxx\""
   ],
   "id": "595a8719-9266-4ac4-8dfb-b4d01cfd58ca"
  },
  {
   "cell_type": "markdown",
   "metadata": {},
   "source": [
    "Now, we are ready to launch a server!"
   ],
   "id": "ff1ae7a0-db03-4b29-9c2f-2f2f3c56c370"
  },
  {
   "cell_type": "markdown",
   "metadata": {},
   "source": [
    "First, we’ll specify the name for our server - we’ll include our username and the experiment name in the server name, so that it will be easy to identify our server in the CHI@UC web interface."
   ],
   "id": "dff9a60d-7455-4a17-98dc-357e164d7137"
  },
  {
   "cell_type": "code",
   "execution_count": null,
   "metadata": {},
   "outputs": [],
   "source": [
    "username = os.environ.get(\"USER\")\n",
    "expname = \"cloud-gpu\"\n",
    "# set a name for the server\n",
    "server_name = f\"{username}-{expname}\".replace(\"_\",\"-\")"
   ],
   "id": "fc53f874-00e2-48ea-b62b-60d4917988e0"
  },
  {
   "cell_type": "markdown",
   "metadata": {},
   "source": [
    "We will specify the disk image that we want our server to use."
   ],
   "id": "aa462203-e6ed-4193-a100-682b7940409d"
  },
  {
   "cell_type": "code",
   "execution_count": null,
   "metadata": {},
   "outputs": [],
   "source": [
    "chi.set(\"image\", \"CC-Ubuntu20.04\")"
   ],
   "id": "97565d3a-363a-466d-bc10-f3c4dba50a5c"
  },
  {
   "cell_type": "markdown",
   "metadata": {},
   "source": [
    "Then, we can create the server!"
   ],
   "id": "ec659fd8-80ab-4716-9337-bd11815eeb86"
  },
  {
   "cell_type": "code",
   "execution_count": null,
   "metadata": {},
   "outputs": [],
   "source": [
    "server.create_server(\n",
    "    server_name, \n",
    "    reservation_id=lease.get_node_reservation(lease_id),\n",
    "    image_name=chi.get(\"image\")\n",
    ")\n",
    "server_id = server.get_server_id(server_name)"
   ],
   "id": "88d8ab55-ab75-451d-b4f2-9063e46147a0"
  },
  {
   "cell_type": "markdown",
   "metadata": {},
   "source": [
    "The next cell waits for the server to be active."
   ],
   "id": "22c45491-de74-45b4-ab33-f0b5dc5b3573"
  },
  {
   "cell_type": "code",
   "execution_count": null,
   "metadata": {},
   "outputs": [],
   "source": [
    "# wait until server is ready to use\n",
    "server.wait_for_active(server_id)"
   ],
   "id": "8eb13fc9-1df1-476f-861d-bce06360c4b2"
  },
  {
   "cell_type": "markdown",
   "metadata": {},
   "source": [
    "Once the server is created, you should be able to see it and monitor its status on the [CHI@UC web interface](https://chi.uc.chameleoncloud.org/project/instances/). (If there was any problem while starting the server, you can also delete the server instance from that interface, in order to be able to try again.)"
   ],
   "id": "89ebbc76-2306-4928-ba77-efe61e0060c9"
  },
  {
   "cell_type": "markdown",
   "metadata": {},
   "source": [
    "## Attach an address and access your server over SSH"
   ],
   "id": "ed9b54e2-4e66-4501-9d19-84df681dd775"
  },
  {
   "cell_type": "markdown",
   "metadata": {},
   "source": [
    "Next, we will attach an address to our server, then use SSH to access its terminal.\n",
    "\n",
    "First, we’ll attach an address:"
   ],
   "id": "6ca80880-68b6-4e29-890e-8f69ec69a30c"
  },
  {
   "cell_type": "code",
   "execution_count": null,
   "metadata": {},
   "outputs": [],
   "source": [
    "public_ip = server.associate_floating_ip(server_id)\n",
    "server.wait_for_tcp(public_ip, port=22)"
   ],
   "id": "f6798874-9ba7-455b-87da-cdf79bf20108"
  },
  {
   "cell_type": "markdown",
   "metadata": {},
   "source": [
    "Now we can open a terminal in the Jupyter interface to access the server over SSH, using the SSH command that is printed by the following cell:"
   ],
   "id": "76b35f9e-d01e-4e48-9f24-77878d0f47ad"
  },
  {
   "cell_type": "code",
   "execution_count": null,
   "metadata": {},
   "outputs": [],
   "source": [
    "print(\"ssh cc@%s\" % public_ip)"
   ],
   "id": "25b976fe-9a74-4f57-8490-5ff419e7ab30"
  },
  {
   "cell_type": "markdown",
   "metadata": {},
   "source": [
    "## Install machine learning libraries on your server"
   ],
   "id": "a0ebe889-abd3-4848-ba61-5feb60aba51a"
  },
  {
   "cell_type": "code",
   "execution_count": null,
   "metadata": {},
   "outputs": [],
   "source": [
    "from chi import ssh\n",
    "\n",
    "node = ssh.Remote(public_ip)"
   ],
   "id": "bd70b182-4903-4d4c-9771-3eb3cfd67da2"
  },
  {
   "cell_type": "code",
   "execution_count": null,
   "metadata": {},
   "outputs": [],
   "source": [
    "node.run('sudo apt update')\n",
    "node.run('sudo apt -y install python3-pip python3-dev')\n",
    "node.run('sudo pip3 install --upgrade pip')"
   ],
   "id": "696af88c-a54b-4d50-8064-703e4775eca6"
  },
  {
   "cell_type": "code",
   "execution_count": null,
   "metadata": {},
   "outputs": [],
   "source": [
    "node.run('wget https://developer.download.nvidia.com/compute/cuda/repos/ubuntu2004/x86_64/cuda-keyring_1.0-1_all.deb')\n",
    "node.run('sudo dpkg -i cuda-keyring_1.0-1_all.deb')\n",
    "node.run('sudo apt update')\n",
    "node.run('sudo apt -y install linux-headers-$(uname -r)')\n",
    "node.run('sudo apt-mark hold cuda-toolkit-12-config-common nvidia-driver-535') # don't let it install this cuda\n",
    "node.run('sudo apt -y install nvidia-driver-520') # this driver likes CUDA 11.8"
   ],
   "id": "418cdc14-bfed-4353-a27f-cb28cd676567"
  },
  {
   "cell_type": "code",
   "execution_count": null,
   "metadata": {},
   "outputs": [],
   "source": [
    "try:\n",
    "    node.run('sudo reboot') # reboot and wait for it to come up\n",
    "except:\n",
    "    pass\n",
    "server.wait_for_tcp(public_ip, port=22)\n",
    "node = ssh.Remote(public_ip) "
   ],
   "id": "a1da0246-d3a4-495a-83c1-e43a7eb7eb5f"
  },
  {
   "cell_type": "code",
   "execution_count": null,
   "metadata": {},
   "outputs": [],
   "source": [
    "node.run('sudo apt -y install cuda-11-8 cuda-runtime-11-8 cuda-drivers=520.61.05-1')\n",
    "node.run('sudo apt -y install nvidia-gds-11-8') # install instructions say to do this separately!\n",
    "node.run('sudo apt -y install libcudnn8=8.9.3.28-1+cuda11.8 nvidia-cuda-toolkit') # make sure the get cuda-11-8 version"
   ],
   "id": "b42ba19b-eb84-4b1c-bed6-9ad6055762fa"
  },
  {
   "cell_type": "code",
   "execution_count": null,
   "metadata": {},
   "outputs": [],
   "source": [
    "node.run(\"echo 'PATH=\\\"/usr/local/cuda-11.8/bin:/usr/local/sbin:/usr/local/bin:/usr/sbin:/usr/bin:/sbin:/bin:/snap/bin\\\"' | sudo tee /etc/environment\")"
   ],
   "id": "1ffb3ac9-d521-4754-a26b-2e3e144f4b32"
  },
  {
   "cell_type": "code",
   "execution_count": null,
   "metadata": {},
   "outputs": [],
   "source": [
    "try:\n",
    "    node.run('sudo reboot')\n",
    "except:\n",
    "    pass\n",
    "server.wait_for_tcp(public_ip, port=22)\n",
    "node = ssh.Remote(public_ip) # note: need a new SSH session to get new PATH\n",
    "node.run('nvidia-smi')\n",
    "node.run('nvcc --version')"
   ],
   "id": "f8aaf2e7-7f7e-4cd2-b6d6-6c47e59ea3b9"
  },
  {
   "cell_type": "code",
   "execution_count": null,
   "metadata": {},
   "outputs": [],
   "source": [
    "node.run('python3 -m pip install --user Cython==0.29.32')\n",
    "node.run('wget https://raw.githubusercontent.com/teaching-on-testbeds/colab/main/requirements_chameleon_dl.txt -O requirements_chameleon_dl.txt')\n",
    "node.run('python3 -m pip install --user -r requirements_chameleon_dl.txt --extra-index-url https://download.pytorch.org/whl/cu113 -f https://storage.googleapis.com/jax-releases/jax_cuda_releases.html')"
   ],
   "id": "172ee1d6-7588-4d44-a005-baa8c95bf5d2"
  },
  {
   "cell_type": "markdown",
   "metadata": {},
   "source": [
    "Test your installation - make sure Tensorflow can see the GPU:"
   ],
   "id": "c53d9c6e-a676-44de-8d50-458988873a9e"
  },
  {
   "cell_type": "code",
   "execution_count": null,
   "metadata": {},
   "outputs": [],
   "source": [
    "node.run('python3 -c \\'import tensorflow as tf; print(tf.config.list_physical_devices(\"GPU\"))\\'')\n",
    "# should say: PhysicalDevice(name='/physical_device:GPU:0', device_type='GPU')"
   ],
   "id": "8ce6fdf7-d738-4011-9b89-cdc44814249b"
  },
  {
   "cell_type": "markdown",
   "metadata": {},
   "source": [
    "## Install additional libraries for fast inference on GPU\n",
    "\n",
    "To squeeze all the inference speed we can out of our GPU, we’ll also install TensorRT, a framework that optimizes inference speed on NVIDIA’s GPUs."
   ],
   "id": "8720d6fb-b545-4007-bf80-f4e3639e8729"
  },
  {
   "cell_type": "code",
   "execution_count": null,
   "metadata": {},
   "outputs": [],
   "source": [
    "# hold libcudnn8 so we won't try to upgrade it to an incompatible version\n",
    "node.run('sudo apt-mark hold libcudnn8')\n",
    "# specify python-cuda to match installed cuda version\n",
    "node.run('python3 -m pip install --user cuda-python==11.8.0')\n",
    "# specify versions for ALL the tensorrt components\n",
    "node.run('sudo apt -y install tensorrt-dev=8.6.0.12-1+cuda11.8 libnvinfer-dev=8.6.0.12-1+cuda11.8 libnvinfer-lean-dev=8.6.0.12-1+cuda11.8 libnvinfer-headers-dev=8.6.0.12-1+cuda11.8 libnvinfer8=8.6.0.12-1+cuda11.8 libnvinfer-lean8=8.6.0.12-1+cuda11.8 libnvinfer-dispatch-dev=8.6.0.12-1+cuda11.8 libnvinfer-plugin-dev=8.6.0.12-1+cuda11.8 libnvinfer-vc-plugin-dev=8.6.0.12-1+cuda11.8 libnvparsers-dev=8.6.0.12-1+cuda11.8 libnvonnxparsers-dev=8.6.0.12-1+cuda11.8 libnvparsers8=8.6.0.12-1+cuda11.8 libnvinfer-vc-plugin8=8.6.0.12-1+cuda11.8 libnvinfer-dispatch8=8.6.0.12-1+cuda11.8 libnvinfer-headers-plugin-dev=8.6.0.12-1+cuda11.8 libnvinfer-plugin8=8.6.0.12-1+cuda11.8 libnvonnxparsers8=8.6.0.12-1+cuda11.8 libcudnn8-dev=8.9.3.28-1+cuda11.8')\n",
    "node.run('sudo apt -y install python3-libnvinfer-dev=8.6.0.12-1+cuda11.8 python3-libnvinfer=8.6.0.12-1+cuda11.8 python3-libnvinfer-lean=8.6.0.12-1+cuda11.8 python3-libnvinfer-dispatch=8.6.0.12-1+cuda11.8')\n",
    "# need to update tensorflow to one that is linked against tensorrt8\n",
    "node.run('python3 -m pip install --user tensorflow==2.12.0')"
   ],
   "id": "d945973d-ef01-4fcd-9a29-20fe61ce8f11"
  },
  {
   "cell_type": "markdown",
   "metadata": {},
   "source": [
    "## Transfering files to the server\n",
    "\n",
    "Later in this notebook, we’ll run an image classification model - a model that accepts an image as input and “predicts” the name of the object in the image - on the server. To do this, we’ll need to upload some files to the server:\n",
    "\n",
    "-   a sample image\n",
    "-   Python code to load a model and make a prediction on the image\n",
    "\n",
    "Apart from the above, If you prefer, you can upload your own model and label file to the image_model folder if not by default a pre-trained image classification model mobilenetv2 will be used.\n",
    "\n",
    "These are all contained in the `image_model` directory. If you prefer, you can upload your own model and label file to the image_model folder, This is optional if no model and label file are provided the Python code will directly download a pre-trained model and the associated list of labels when we run it.  \n",
    "Next, We can upload all the above files to the server using `scp`, and specify the source directory (in the Jupyter environment) and destination directory (on the server)."
   ],
   "id": "a85edd6a-ef97-4725-8c3d-7325eccd0728"
  },
  {
   "cell_type": "code",
   "execution_count": null,
   "metadata": {},
   "outputs": [],
   "source": [
    "!scp -r -i ~/work/.ssh/id_rsa -o StrictHostKeyChecking=no image_model cc@{public_ip}:~/"
   ],
   "id": "2fbb4b9c-ab76-41fb-bc95-0f7631d76081"
  },
  {
   "cell_type": "markdown",
   "metadata": {},
   "source": [
    "## Use a pre-trained image classification model to do inference\n",
    "\n",
    "Now, we can use the materials we uploaded to the server, and do inference - make a prediction - *on* the server.\n",
    "\n",
    "In this example, we will use a machine learning model that is specifically designed for fast inference using GPU acceleration. We will ask it to make a prediction for the following image:"
   ],
   "id": "22d6db39-d0bf-4e5b-93ea-f931e0128a39"
  },
  {
   "cell_type": "code",
   "execution_count": null,
   "metadata": {},
   "outputs": [],
   "source": [
    "from IPython.display import Image\n",
    "Image('image_model/parrot.jpg') "
   ],
   "id": "8e6dcaf1-30d1-4ab9-a28f-027b3fc829df"
  },
  {
   "cell_type": "markdown",
   "metadata": {},
   "source": [
    "If you skipped uploading your own model, you can leave all the arguments empty. And if you uploaded the models then enter the model name, label file name, and the image on which you are going to make a prediction. By default the image displayed above will be used to make predictions."
   ],
   "id": "299f94b2-12fb-449f-b093-59184131448e"
  },
  {
   "cell_type": "code",
   "execution_count": null,
   "metadata": {},
   "outputs": [],
   "source": [
    "node.run('python /home/cc/image_model/model.py --model_name keras_model.h5 --labelfile_name labels.txt --image_name parrot.jpg')"
   ],
   "id": "b4ac0f9e-4eb2-446d-9c5f-daf3135bca4e"
  },
  {
   "cell_type": "markdown",
   "metadata": {},
   "source": [
    "Make a note of the time it took to generate the prediction - would this inference time be acceptable for all applications? Also make a note of the model’s three best “guesses” regarding the label of the image - is the prediction accurate?"
   ],
   "id": "02755b18-0a70-4fa3-8824-4a118fe20965"
  },
  {
   "cell_type": "markdown",
   "metadata": {},
   "source": [
    "## Use a pre-trained image classification model to do inference with optimizations\n",
    "\n",
    "Now we will repeat the image classification above, but with a version of the model that is compiled with TensorRT, for extra optimizations on NVIDIA GPUs."
   ],
   "id": "1c450a98-70cf-4ea2-bc59-ecfa722d2718"
  },
  {
   "cell_type": "markdown",
   "metadata": {},
   "source": [
    "First, we’ll convert the same model to a TensorRT equivalent - this will take a while."
   ],
   "id": "fe3529db-e84d-493f-a3ed-22b5f468be32"
  },
  {
   "cell_type": "code",
   "execution_count": null,
   "metadata": {},
   "outputs": [],
   "source": [
    "# leave arguments empty if you skipped uploading models.\n",
    "node.run('python /home/cc/image_model/model-convert.py --model_name keras_model.h5')"
   ],
   "id": "03717aa0-83f9-4afe-98e4-56d2be6662f6"
  },
  {
   "cell_type": "markdown",
   "metadata": {},
   "source": [
    "Then, we can run the optimized version of the model -"
   ],
   "id": "257aab0c-fc0c-40aa-b689-6123a9fcaa19"
  },
  {
   "cell_type": "code",
   "execution_count": null,
   "metadata": {},
   "outputs": [],
   "source": [
    "# Leave arguments empty if you skipped uploading models.\n",
    "node.run('python /home/cc/image_model/model-opt.py --model_name keras_model.h5 --labelfile_name labels.txt --image_name parrot.jpg')"
   ],
   "id": "a8f98981-6e4d-4ba7-92fc-f3aca2708f32"
  },
  {
   "cell_type": "markdown",
   "metadata": {},
   "source": [
    "Make a note of the time it took to generate the prediction - how does this compare to the previous one?"
   ],
   "id": "6fb3065a-8577-447e-b1b5-bcba5e93b5cb"
  },
  {
   "cell_type": "markdown",
   "metadata": {},
   "source": [
    "## Delete the server\n",
    "\n",
    "Finally, we should stop and delete our server so that others can create new servers using the same lease. To delete our server, we can run the following cell:"
   ],
   "id": "65ed5626-747a-4bf8-b245-983caa7d348a"
  },
  {
   "cell_type": "code",
   "execution_count": null,
   "metadata": {},
   "outputs": [],
   "source": [
    "chi.server.delete_server(server_id)"
   ],
   "id": "ddcb35e8-1def-4463-89e2-dbc440053903"
  },
  {
   "cell_type": "markdown",
   "metadata": {},
   "source": [
    "Also free up the IP that you we attached to the server, now that it is no longer in use:"
   ],
   "id": "68c042d8-fdb0-43ad-80f5-cc24dd668e77"
  },
  {
   "cell_type": "code",
   "execution_count": null,
   "metadata": {},
   "outputs": [],
   "source": [
    "ip_details = chi.network.get_floating_ip(public_ip)\n",
    "chi.neutron().delete_floatingip(ip_details[\"id\"])"
   ],
   "id": "d67ef2d1-4974-4de0-8541-e251111c9db5"
  }
 ],
 "nbformat": 4,
 "nbformat_minor": 5,
 "metadata": {}
}
